{
 "cells": [
  {
   "cell_type": "code",
   "execution_count": 1,
   "metadata": {
    "collapsed": true
   },
   "outputs": [],
   "source": [
    "%matplotlib inline\n",
    "import matplotlib.pyplot as plt\n",
    "import numpy as np"
   ]
  },
  {
   "cell_type": "code",
   "execution_count": 10,
   "metadata": {
    "collapsed": false
   },
   "outputs": [],
   "source": [
    "model = np.genfromtxt(\n",
    "    '/Users/hombit/Documents/projects/accretion/fred/data/F_3.9571e+38/alpha_0.91436/sum.dat',\n",
    "    names=True\n",
    ")\n",
    "obsB = np.genfromtxt(\n",
    "    '/Users/hombit/Dropbox/X-ray_novae_modeling (2) (1)/data_and_plots/opt/f1_B.txt',\n",
    "    names=['t','mB'],\n",
    "    delimiter=', '\n",
    ")\n",
    "obsV = np.genfromtxt(\n",
    "    '/Users/hombit/Dropbox/X-ray_novae_modeling (2) (1)/data_and_plots/opt/f1_V.txt',\n",
    "    names=['t','mV'],\n",
    "    delimiter=', '\n",
    ")\n",
    "model['t'] -= 5.17\n",
    "obsB['t'] -= 52445.5\n",
    "obsV['t'] -= 52445.5\n",
    "\n",
    "AV = 1.6\n",
    "AB = 1.324 * 1.6\n",
    "\n",
    "obsB['mB'] -= AB\n",
    "obsV['mV'] -= AV"
   ]
  },
  {
   "cell_type": "code",
   "execution_count": 11,
   "metadata": {
    "collapsed": false,
    "scrolled": true
   },
   "outputs": [
    {
     "data": {
      "text/plain": [
       "[<matplotlib.lines.Line2D at 0x10ef50be0>]"
      ]
     },
     "execution_count": 11,
     "metadata": {},
     "output_type": "execute_result"
    },
    {
     "data": {
      "image/png": "[encoded data removed]",
      "text/plain": [
       "<matplotlib.figure.Figure at 0x10ee8e1d0>"
      ]
     },
     "metadata": {},
     "output_type": "display_data"
    }
   ],
   "source": [
    "mV_cold = -2.5 * np.log10( 1 - (model['Rhot2Rout']-1e-5)**2. ) + 1000\n",
    "# backgroundV = obsV['mV'][ obsV['t'] < -50 ].mean()\n",
    "backgroundV = 16.4\n",
    "mV_sum = -2.5 * np.log10(\n",
    "    + np.power(10., -0.4 * model['mV'])\n",
    "    + np.power(10., -0.4 * mV_cold)\n",
    "    + np.power(10., -0.4 * backgroundV)\n",
    ")\n",
    "plt.gca().invert_yaxis()\n",
    "plt.plot( model['t'], mV_sum )\n",
    "plt.plot( obsV['t'], obsV['mV'], '+' )"
   ]
  },
  {
   "cell_type": "code",
   "execution_count": null,
   "metadata": {
    "collapsed": true
   },
   "outputs": [],
   "source": []
  }
 ],
 "metadata": {
  "kernelspec": {
   "display_name": "Python 3",
   "language": "python",
   "name": "python3"
  },
  "language_info": {
   "codemirror_mode": {
    "name": "ipython",
    "version": 3
   },
   "file_extension": ".py",
   "mimetype": "text/x-python",
   "name": "python",
   "nbconvert_exporter": "python",
   "pygments_lexer": "ipython3",
   "version": "3.5.1"
  }
 },
 "nbformat": 4,
 "nbformat_minor": 0
}
